{
 "cells": [
  {
   "cell_type": "markdown",
   "id": "70b25d40-08a8-4ff9-bd2f-3d0f0b48e2ef",
   "metadata": {},
   "source": [
    "Q1. What is python and why is it popular?\n",
    "\n",
    "\n",
    "Ans1. Python is general purpose interpreted, interactive, oject oriented and high level progamming lanuage. It is developed by Guido van Rossum in the        year of 1991.\n",
    "\n",
    "      Why is it popular because:\n",
    "      * It is easy to learn.\n",
    "      * It is widely used in industries like\n",
    "          - Web development\n",
    "          - Automation\n",
    "          - Software development\n",
    "          - In data science and analysis\n",
    "          - Web scripting  and many more.\n",
    "      * Python has huge amount of usefull  built in libraries like pandas, matplotlib, numphy etc which can make development lot easier and faster.\n",
    "      * Python has very active python community.\n",
    "      * Because of high demand across industries python has a good carrer opputunities. \n",
    "      "
   ]
  },
  {
   "cell_type": "markdown",
   "id": "921187e2-e440-4701-9335-3477ad48d64c",
   "metadata": {},
   "source": [
    "Q2. What is an interpreter in Python?\n",
    "\n",
    "Ans2. Interpreters are the computer program that will convert high level language(Source code) into intermediate code (machine level language).                 Code is executed line by line by the interpretor. For example.\n",
    "\n",
    "    a = \"My name is \"\n",
    "    b = \"Harsh\"\n",
    "    c = a+b\n",
    "    c ='My name is Harsh'\n",
    "    Here, python interpret the program line by line. It helps, when error occur we can easily fix the program by changing the line of code instead of       restarting the program."
   ]
  },
  {
   "cell_type": "markdown",
   "id": "9c958a33-d0d2-4792-bdc2-1947fc3ecc3a",
   "metadata": {},
   "source": [
    "Q3.  What are pre-defined keywords in Python?\n",
    "\n",
    "Ans3. Pre-defined keywords are the words that hold a special meaning and have a specific purpose. Each keyword has a specific operation and keywords          can never be changed and it is fixed.\n",
    "\n",
    "      like Print is used for output, type is used for determining the type of an object.\n"
   ]
  },
  {
   "cell_type": "markdown",
   "id": "ea424f4c-60da-4847-96e7-19a9b6fab133",
   "metadata": {},
   "source": [
    "Q4. Can keywords be used as variable names?\n",
    "\n",
    "Ans4. No, keywords can not be used as variable names. Each keywords are fixed and cannot be changed.\n",
    "\n",
    "    for example: print is a keyword which is used for output and it cannot be assigned as variable, it shows an error."
   ]
  },
  {
   "cell_type": "markdown",
   "id": "1ef1eaea-0fd2-41bc-80bf-dde133a279e7",
   "metadata": {},
   "source": [
    "Q5. What is mutability in Python?\n",
    "\n",
    "Ans5. Objects/Containers whose state or value can be changed or reassigned after they are created are called as mutable objects.\n",
    "\n",
    "      for example: In list, set,  dictionary  elements can be chnaged after there creation."
   ]
  },
  {
   "cell_type": "markdown",
   "id": "00171d5d-ed2f-4af0-9d6d-2d102d8e7a14",
   "metadata": {},
   "source": [
    "Q6. Why are lists mutable, but tuples are immutable?\n",
    "\n",
    "Ans6. Lists are mutable because in list items are changeable. In lists we can reassign, append and remove the value after \n",
    "      there creation.\n",
    "      \n",
    "      Tuples, string, float, int are immutable because these can't accept the re-assignment of an item. Immutable objects\n",
    "      are unchangeable in nature."
   ]
  },
  {
   "cell_type": "markdown",
   "id": "f349ecd2-7ad7-4a13-91bb-ee32049bf055",
   "metadata": {},
   "source": [
    "Q7. What is the difference between “==” and “is” operators in Python?\n",
    "\n",
    "Ans7. * \"==\"(Equal to) operator is comparison operator. it will compare two value and return a boolean value.\n",
    "\n",
    "        For example-  a = 6788\n",
    "                      b = 6788\n",
    "                      a==b \n",
    "            Result    True   \n",
    "                    It will compare the value of a and b, a == b checks if the values of a and b are equal. Both having \n",
    "                    same value 2 that's why it result true\n",
    "      * \"is\" operator is identity operator. It will compare the location of object/ variable.\n",
    "        For example- a1 = 6788\n",
    "                     b1 = 6788\n",
    "                     id(a1) = 1837597529040\n",
    "                     id(b1) = 1837597528496\n",
    "                     a1 is b1\n",
    "            Result   False\n",
    "                    Here, a1 is b1 checks if a1 and b1 refer to the same object in memory. a1 is referring to \n",
    "                    other memory block and b1 is referring to other memory block. that's why the result is false."
   ]
  },
  {
   "cell_type": "markdown",
   "id": "ce39576d-4063-4777-857e-58b17a1537b4",
   "metadata": {},
   "source": [
    "Q8. What are logical operators in Python?\n",
    "\n",
    "Ans8. Logical operators are of three types: And, Or, not.\n",
    "\n",
    "     - And operator = In, and operator both the condition must be true. If in two condition either one of them is \n",
    "                    false, than the statment result is false. \n",
    "                            For example:  True and True result True\n",
    "                                          True and False result False\n",
    "                                          False and True result False\n",
    "                                          False and False result false\n",
    "    - Or operator = In, or operator if one of the statement is true from two staement., than result is true.\n",
    "                            For example True or True result True\n",
    "                                        True or false result True\n",
    "                                        False or True result true\n",
    "                                        False or False result False\n",
    "    - Not = This inverts boolean value of an expression. It converts true to false, false to true\n",
    "                            For example a = true\n",
    "                                        b = false\n",
    "                                        print(not a)\n",
    "                                Result : false\n"
   ]
  },
  {
   "cell_type": "markdown",
   "id": "51f69e47-5c47-4191-9ae0-cf7d34db4ddf",
   "metadata": {},
   "source": [
    "Q9.What is type casting in Python?\n",
    "\n",
    "Ans9. Type casting(Type conversion) means changing the format. Type casting convert the data variable into certain \n",
    "      data variable in order to perform required operation.\n",
    "\n",
    "    For exmple a = \"3\" and we convert this string in integer we use type casting\n",
    "                int(a)\n",
    "                a = 3 Here, int is used for converting string to integer format.\n"
   ]
  },
  {
   "cell_type": "markdown",
   "id": "9e18ec2d-1316-448b-8af3-08e0eee58e78",
   "metadata": {},
   "source": [
    "Q10. What is the difference between implicit and explicit type casting?\n",
    "\n",
    "Ans10. Implict type casting - In implict typecasting python automatically understand the datatype.\n",
    "\n",
    "                            For example a = 3\n",
    "                                       b = 5.5\n",
    "                            Result     c = a+b = 8.5\n",
    "                                    here, python understand the data type it automatically \n",
    "                                    convert \"a\" in float data type.\n",
    "\n",
    "       Explict type casting - In explict typecasting user have to convert the data type into required data type.\n",
    "\n",
    "                            For example a = \"5\"\n",
    "                                        b = 10\n",
    "                                        c = a+b\n",
    "        Result:  error, here for addition first we have to convert \"a\"(String) variable in (int or float) data type. \n",
    "                                        a = int(\"5\")\n",
    "                                        b = 10\n",
    "                                        c = a+b\n",
    "                                        c = 15                                                                   "
   ]
  },
  {
   "cell_type": "markdown",
   "id": "b6387cec-6533-4589-9a62-1240b95f1a9d",
   "metadata": {},
   "source": [
    "Q11. What is the purpose of conditional statements in Python?\n",
    "\n",
    "Ans11. Conditional statement in python are used to execute different blocks of code based on certain decisions.\n",
    "       The primary purpose of conditional statement  is to enable your program to respond differentaly to \n",
    "       different input or situations.\n",
    "\n",
    "        - The conditional statements are if, else, elif, nested (if-else)."
   ]
  },
  {
   "cell_type": "code",
   "execution_count": 529,
   "id": "f8695e49-14d6-4766-b56d-d59f6a0adcc8",
   "metadata": {},
   "outputs": [
    {
     "name": "stdout",
     "output_type": "stream",
     "text": [
      "The subject is Excel\n"
     ]
    }
   ],
   "source": [
    "#Q12.  How does the elif statement work\n",
    "#Ans12. Elif statement is used where multiple condition is available.For example\n",
    "\n",
    "a = \"Excel\"\n",
    "\n",
    "if a ==\"Python\":\n",
    "    print(\"The subject is python\")\n",
    "elif a ==\"Stats\":\n",
    "    print(\"the subject is stats\")\n",
    "elif a==\"Excel\":\n",
    "    print(\"The subject is Excel\")\n",
    "else:\n",
    "    print(\"The subject is sql\")\n"
   ]
  },
  {
   "cell_type": "code",
   "execution_count": 41,
   "id": "ae5ba150-b985-4cdc-9c38-19d6ef2f35fa",
   "metadata": {},
   "outputs": [
    {
     "name": "stdout",
     "output_type": "stream",
     "text": [
      "1\n",
      "2\n",
      "3\n",
      "4\n",
      "5\n"
     ]
    }
   ],
   "source": [
    "#Q13. What is the difference between for and while loops.\n",
    "\n",
    "#ANS13. WHILE LOOP-\n",
    "    #The main difference is that While loop is used when you want to repeat a block of code untill the condtion is true and\n",
    "    #For loop is used when you know in advnace how many times you want to execut a statemnet or block of statement.\n",
    "\n",
    "#while loop example\n",
    "count = 1\n",
    "while count < 6:\n",
    "    print(count)\n",
    "    count = count + 1\n",
    "    \n",
    "# In this example while loop is repeatedly executes as long as count is less than 6. It stop the loop when (count) met the condition.           \n"
   ]
  },
  {
   "cell_type": "code",
   "execution_count": 53,
   "id": "9e32f44f-07ec-4fd9-89f1-c5afb1bc7943",
   "metadata": {},
   "outputs": [
    {
     "name": "stdout",
     "output_type": "stream",
     "text": [
      "name\n",
      "python\n",
      "4\n",
      "place\n",
      "2\n",
      "5\n",
      "6.0\n"
     ]
    }
   ],
   "source": [
    "# For loop Example    \n",
    "\n",
    "fl1 = [\"name\", \"python\", 4, \"place\", 2, 5,6.0]\n",
    "\n",
    "for fl1 in fl1:\n",
    "    print(fl1)\n",
    "\n",
    "# In this example, for loop iterates over each item in fl1 list."
   ]
  },
  {
   "cell_type": "code",
   "execution_count": 119,
   "id": "2d9a7465-f4e8-411e-a2d6-fab5a4d48749",
   "metadata": {},
   "outputs": [
    {
     "name": "stdin",
     "output_type": "stream",
     "text": [
      "Enter the valid positive number -5\n",
      "Enter the valid positive number -6\n",
      "Enter the valid positive number 6\n"
     ]
    },
    {
     "name": "stdout",
     "output_type": "stream",
     "text": [
      "You entered the valid number \n"
     ]
    }
   ],
   "source": [
    "#Q14. Describe a scenario where a while loop is more suitable than a for loop.\n",
    "\n",
    "#ANS14. Scenario: Imagine you want the write a program that asks the user to enter a valid positive number. You want to keep asking the user for \n",
    "        #input until they provide a valid positive number.\n",
    "\n",
    "number = 0\n",
    "while number <= 0:\n",
    "    number= int(input(\"Enter the valid positive number\"))\n",
    "print(\"You entered the valid number \")\n",
    "\n",
    "       \n",
    "        #Here while loop is used over for loop because we dont know how many attempt a user take to input valid positive number.\n",
    "        #and Also condition is that the number should be positive.\n",
    "            "
   ]
  },
  {
   "cell_type": "raw",
   "id": "56e501df-6841-49c7-b82b-eca48a90a56d",
   "metadata": {},
   "source": [
    "PRACTICAL QUESTIONS\n",
    "\n",
    "\n",
    "\n",
    "\n",
    "\n"
   ]
  },
  {
   "cell_type": "code",
   "execution_count": 19,
   "id": "9e26a70e-bb40-4aa0-98de-bd5d4b3bf3b8",
   "metadata": {},
   "outputs": [
    {
     "name": "stdout",
     "output_type": "stream",
     "text": [
      "Hello, World!\n"
     ]
    }
   ],
   "source": [
    "#Q1. Write a Python program to print \"Hello, World!\n",
    "print(\"Hello, World!\")"
   ]
  },
  {
   "cell_type": "code",
   "execution_count": 121,
   "id": "c99e883d-e004-4ba7-9051-ff336113bcf0",
   "metadata": {},
   "outputs": [
    {
     "name": "stdout",
     "output_type": "stream",
     "text": [
      "My name is Harsh and I am 24 years old\n"
     ]
    }
   ],
   "source": [
    "#Q2. Write a Python program that displays your name and age.\n",
    "q = \"Harsh\"\n",
    "w = 24\n",
    "print(f'My name is {q} and I am {w} years old')\n"
   ]
  },
  {
   "cell_type": "code",
   "execution_count": 123,
   "id": "fbf9f303-0066-4b99-b7b0-71b877edb236",
   "metadata": {},
   "outputs": [
    {
     "data": {
      "text/plain": [
       "['False',\n",
       " 'None',\n",
       " 'True',\n",
       " 'and',\n",
       " 'as',\n",
       " 'assert',\n",
       " 'async',\n",
       " 'await',\n",
       " 'break',\n",
       " 'class',\n",
       " 'continue',\n",
       " 'def',\n",
       " 'del',\n",
       " 'elif',\n",
       " 'else',\n",
       " 'except',\n",
       " 'finally',\n",
       " 'for',\n",
       " 'from',\n",
       " 'global',\n",
       " 'if',\n",
       " 'import',\n",
       " 'in',\n",
       " 'is',\n",
       " 'lambda',\n",
       " 'nonlocal',\n",
       " 'not',\n",
       " 'or',\n",
       " 'pass',\n",
       " 'raise',\n",
       " 'return',\n",
       " 'try',\n",
       " 'while',\n",
       " 'with',\n",
       " 'yield']"
      ]
     },
     "execution_count": 123,
     "metadata": {},
     "output_type": "execute_result"
    }
   ],
   "source": [
    "#Q3. Write code to print all the pre-defined keywords in Python using the keyword library?\n",
    "import keyword\n",
    "keyword.kwlist"
   ]
  },
  {
   "cell_type": "code",
   "execution_count": 127,
   "id": "d55b256a-f89d-469f-a66f-d9e88c28a441",
   "metadata": {},
   "outputs": [
    {
     "name": "stdin",
     "output_type": "stream",
     "text": [
      "Enter the Word if\n"
     ]
    },
    {
     "name": "stdout",
     "output_type": "stream",
     "text": [
      "This word is python keyword\n"
     ]
    }
   ],
   "source": [
    "#Q4. Write a program that checks if a given word is a Python keyword?\n",
    "import keyword\n",
    "Word = input(\"Enter the Word\")\n",
    "\n",
    "if Word in keyword.kwlist:\n",
    "    print(\"This word is python keyword\")\n",
    "else:\n",
    "    print(\"This word is not a python keyword\")\n"
   ]
  },
  {
   "cell_type": "code",
   "execution_count": 131,
   "id": "9004e5e4-29bc-4878-8934-a385b1a5df7b",
   "metadata": {},
   "outputs": [],
   "source": [
    "#Q5. Create a list and tuple in Python, and demonstrate how attempting to change an element works differently for each.\n",
    "\n",
    "l1 = [1,5,8,8.5,\"akki\",\"pwskills\"]\n",
    "t1 = (2,4,6,7,6+1j,\"name\")\n",
    "\n",
    "l1[4] = \"data analyst\"\n",
    "l1.append(\"name\")"
   ]
  },
  {
   "cell_type": "code",
   "execution_count": 133,
   "id": "4cb7b032-8c31-40c0-99e5-3af013f9adde",
   "metadata": {},
   "outputs": [
    {
     "data": {
      "text/plain": [
       "[1, 5, 8, 8.5, 'data analyst', 'pwskills', 'name']"
      ]
     },
     "execution_count": 133,
     "metadata": {},
     "output_type": "execute_result"
    }
   ],
   "source": [
    "l1  ##Lsit are mutable and in list we can easily reassign and append the element after they created."
   ]
  },
  {
   "cell_type": "code",
   "execution_count": 86,
   "id": "d99d5bbe-b176-46d6-8453-942b1686efe6",
   "metadata": {},
   "outputs": [
    {
     "ename": "TypeError",
     "evalue": "'tuple' object does not support item assignment",
     "output_type": "error",
     "traceback": [
      "\u001b[1;31m---------------------------------------------------------------------------\u001b[0m",
      "\u001b[1;31mTypeError\u001b[0m                                 Traceback (most recent call last)",
      "Cell \u001b[1;32mIn[86], line 1\u001b[0m\n\u001b[1;32m----> 1\u001b[0m t1[\u001b[38;5;241m4\u001b[39m] \u001b[38;5;241m=\u001b[39m \u001b[38;5;241m5\u001b[39m\n",
      "\u001b[1;31mTypeError\u001b[0m: 'tuple' object does not support item assignment"
     ]
    }
   ],
   "source": [
    "t1[4] = 5"
   ]
  },
  {
   "cell_type": "raw",
   "id": "7dbd0ed4-43fa-44da-8896-81c2a63641a4",
   "metadata": {},
   "source": [
    "Tuple does not support item assignment. we can't change the assignemnet after creation in tuple. "
   ]
  },
  {
   "cell_type": "code",
   "execution_count": 3,
   "id": "17f4e90d-7bff-4030-b3b9-2e50794dace8",
   "metadata": {},
   "outputs": [],
   "source": [
    "#Q6.Q7 Write a function to demonstrate the behavior of mutable and immutable arguments\n",
    "\n",
    "#Ans. # MUTABLE ARGUMENTS \n",
    "l7= [3,6,7.8,\"name\", \"data analyst\"]  # We start with a list l7\n",
    "\n",
    "l7.append(\"data science\")         \n",
    "l7.remove(\"name\")\n",
    "l7[0] = 6+7j\n",
    "new_list = l7\n",
    "\n",
    "# Here we can see list is a mutable object because in list we add \"data science\", remove \"name\", and change the first item 3 to 6+7j.\n",
    "# this shows behaviour of mutable obejct  which is list can be changed and mutated after they are created."
   ]
  },
  {
   "cell_type": "code",
   "execution_count": 5,
   "id": "853136ed-e920-4a5f-92b2-5632f398b9d7",
   "metadata": {},
   "outputs": [
    {
     "data": {
      "text/plain": [
       "[(6+7j), 6, 7.8, 'data analyst', 'data science']"
      ]
     },
     "execution_count": 5,
     "metadata": {},
     "output_type": "execute_result"
    }
   ],
   "source": [
    "new_list"
   ]
  },
  {
   "cell_type": "code",
   "execution_count": null,
   "id": "ae44ceee-22a5-42a4-b527-f0885f13e10a",
   "metadata": {},
   "outputs": [],
   "source": [
    "#Ans 6.(Ans7)   IMMUTABEL ARGUMENT\n",
    "\n",
    "t5 = (0,1,2,6,\"name\",\"data analyst\")\n",
    "\n",
    "t5[-1] = 9\n",
    "\n",
    "\n",
    "#here we try to chnage the last item of a tuple but it shows the TypeError because tuple do not support item assignment.\n",
    "#this shows behaviour of immutable obejct  which is tuple can't be changed and mutated after they are created."
   ]
  },
  {
   "cell_type": "code",
   "execution_count": 151,
   "id": "b9c36ae6-f58c-4e81-9e7e-ef4fd74cd6a9",
   "metadata": {},
   "outputs": [
    {
     "name": "stdout",
     "output_type": "stream",
     "text": [
      "Both number are positive number\n"
     ]
    }
   ],
   "source": [
    "#Q8. Write a program to demonstrate the use of logical operators\n",
    "#Ans8. Logical operators in Python are used to combine multiple conditions and make decisions based on them.\n",
    "\n",
    "\n",
    "n1 = 1                                             ##In and operator both the condition must be true for executing the code.Here we can see both n1 and \n",
    "n2 = 6                                             ## n2 are greator than 0. that's why if block of code is executed.\n",
    "\n",
    "if (n1 > 0 and n2 > 0):\n",
    "    print(\"Both number are positive number\")\n",
    "else:\n",
    "    print(\"negative number\")"
   ]
  },
  {
   "cell_type": "code",
   "execution_count": 157,
   "id": "babde12c-f023-4d18-931d-985ed0f28c47",
   "metadata": {},
   "outputs": [
    {
     "name": "stdout",
     "output_type": "stream",
     "text": [
      "Either one of them condition is true\n"
     ]
    }
   ],
   "source": [
    "n3 = 9                                    ## In Or operator, if one statemnet is true from both statement it will always execute the true piece of code.\n",
    "n4 = -9                                   ## Here, we can see n4 is negative(false condition) but it will execute the if statement , it doesn't look\n",
    "                                          ## into the else statement.\n",
    "if (n3 > 0 or n4 > 2):\n",
    "    print(\"Either one of them condition is true\")\n",
    "else:\n",
    "    print(\"Both are false\")"
   ]
  },
  {
   "cell_type": "code",
   "execution_count": 183,
   "id": "87bfb42d-adc3-4694-b690-48dbcb78ec3f",
   "metadata": {},
   "outputs": [
    {
     "name": "stdout",
     "output_type": "stream",
     "text": [
      "this is not a fruit\n"
     ]
    }
   ],
   "source": [
    "fruit = \"mango\"                          ##The not operator in Python is used to reverse the result of a condition.It return true if condition is false\n",
    "                                         ## or vice-versa\n",
    "if not fruit == \"Tomato\":\n",
    "    print(\"this is not a fruit\")\n",
    "else:\n",
    "    print(\"this is  fruit\")\n"
   ]
  },
  {
   "cell_type": "code",
   "execution_count": null,
   "id": "81a7bb5b-3c9e-4783-b915-d9a94f3a88d4",
   "metadata": {},
   "outputs": [],
   "source": [
    "#Q9.Write a Python program to convert user input from string to integer, float, and boolean types"
   ]
  },
  {
   "cell_type": "code",
   "execution_count": 75,
   "id": "117118c3-7bac-4cc6-8ee3-2aa7e9fa0622",
   "metadata": {},
   "outputs": [
    {
     "name": "stdin",
     "output_type": "stream",
     "text": [
      "enter the number 5\n"
     ]
    },
    {
     "name": "stdout",
     "output_type": "stream",
     "text": [
      "5 <class 'int'>\n"
     ]
    }
   ],
   "source": [
    "f = input(\"enter the number\")\n",
    "\n",
    "if  isinstance(f, str):\n",
    "    f= int(f)   \n",
    "    print(f,type(f))\n"
   ]
  },
  {
   "cell_type": "code",
   "execution_count": 73,
   "id": "0c4b78b7-3edd-4ccd-a762-9529e1e2ec89",
   "metadata": {},
   "outputs": [
    {
     "name": "stdin",
     "output_type": "stream",
     "text": [
      "Enter the number 5\n"
     ]
    },
    {
     "name": "stdout",
     "output_type": "stream",
     "text": [
      "5.0 <class 'float'>\n"
     ]
    }
   ],
   "source": [
    "f1 =  input(\"Enter the number\")\n",
    "\n",
    "if isinstance(f1, str):\n",
    "    f1 = float(f1)\n",
    "    print(f1,type(f1))"
   ]
  },
  {
   "cell_type": "code",
   "execution_count": 161,
   "id": "47198fdb-e96c-47cf-ba34-04be17f917f1",
   "metadata": {},
   "outputs": [
    {
     "name": "stdin",
     "output_type": "stream",
     "text": [
      "Enter the str \n"
     ]
    },
    {
     "name": "stdout",
     "output_type": "stream",
     "text": [
      "False <class 'bool'>\n"
     ]
    }
   ],
   "source": [
    "b1 = input(\"Enter the str\")        \n",
    "\n",
    "if len(b1) >= 0:\n",
    "    b1 = bool(b1)\n",
    "    print(b1, type(b1))\n",
    "    \n",
    "\n",
    "#In str, empty string should be false and anything in string is true."
   ]
  },
  {
   "cell_type": "code",
   "execution_count": 3,
   "id": "28396f1f-3849-4d0b-a3c8-932ac7e925e7",
   "metadata": {},
   "outputs": [],
   "source": [
    "#Q10.Write code to demonstrate type casting with list elements.\n",
    "\n",
    "#ANS10.\n",
    "l5= [2,\"5\",6,6.7,\"akki\",6+2j, \"True\"]\n",
    "\n",
    "l5[1] = int(l5[1])\n",
    "l5[3] = int(l5[3])\n",
    "l5[0] = str(l5[0])\n",
    "l5[-1] = bool(l5[-1])"
   ]
  },
  {
   "cell_type": "code",
   "execution_count": 5,
   "id": "97d203ac-de2f-4ac8-8f58-7530247b18ca",
   "metadata": {},
   "outputs": [
    {
     "data": {
      "text/plain": [
       "['2', 5, 6, 6, 'akki', (6+2j), True]"
      ]
     },
     "execution_count": 5,
     "metadata": {},
     "output_type": "execute_result"
    }
   ],
   "source": [
    "l5"
   ]
  },
  {
   "cell_type": "code",
   "execution_count": 15,
   "id": "50bf1e58-2559-4752-a49b-b782801f1615",
   "metadata": {},
   "outputs": [
    {
     "name": "stdin",
     "output_type": "stream",
     "text": [
      "Enter the number -5\n"
     ]
    },
    {
     "name": "stdout",
     "output_type": "stream",
     "text": [
      "this is neagtive number\n"
     ]
    }
   ],
   "source": [
    "#Q11.Write a program that checks if a number is positive, negative, or zero.\n",
    "\n",
    "#ANS11.\n",
    "num1 = int(input(\"Enter the number\"))\n",
    "if num1 > 0:\n",
    "    print(\"This is a positive number\")\n",
    "elif num1 < 0:\n",
    "    print(\"this is neagtive number\")\n",
    "else:\n",
    "    print(\"this is zero\")"
   ]
  },
  {
   "cell_type": "code",
   "execution_count": 17,
   "id": "cbf3d386-7afc-452a-973b-b0ba858d0999",
   "metadata": {},
   "outputs": [
    {
     "name": "stdout",
     "output_type": "stream",
     "text": [
      "1 2 3 4 5 6 7 8 9 10 "
     ]
    }
   ],
   "source": [
    "#Q12. Write a for loop to print numbers from 1 to 10.\n",
    "\n",
    "#ANS 12.\n",
    "r1 = range(1,11)\n",
    "\n",
    "for i in r1:\n",
    "    print(i, end = \" \")"
   ]
  },
  {
   "cell_type": "code",
   "execution_count": 23,
   "id": "ddae1a42-0ce3-48fc-8464-c1dcd2f76421",
   "metadata": {},
   "outputs": [
    {
     "name": "stdout",
     "output_type": "stream",
     "text": [
      "Sum of all even number between 1 and 5 is 650\n"
     ]
    }
   ],
   "source": [
    "#Q13. Write a Python program to find the sum of all even numbers between 1 and 50.\n",
    "\n",
    "#ANS13.\n",
    "e1 = 0\n",
    "\n",
    "for i in range(0,51,2):\n",
    "    e1 = e1 + i\n",
    "print(f\"Sum of all even number between 1 and 5 is {e1}\")\n",
    "\n"
   ]
  },
  {
   "cell_type": "code",
   "execution_count": 25,
   "id": "b23d4a99-20c3-4089-ae39-a4bb857a039f",
   "metadata": {},
   "outputs": [
    {
     "name": "stdout",
     "output_type": "stream",
     "text": [
      "Reverse of a name is hsraH\n"
     ]
    }
   ],
   "source": [
    "#Q14.Write a program to reverse a string using a while loop.\n",
    "\n",
    "#ANS 14.\n",
    "name = \"Harsh\"\n",
    "rev_name = \"\"\n",
    "i = len(name) -1 \n",
    "\n",
    "while i >=0:\n",
    "    rev_name = rev_name + name[i]\n",
    "    i = i -1\n",
    "print(f\"Reverse of a name is {rev_name}\")\n",
    "\n",
    "\n"
   ]
  },
  {
   "cell_type": "code",
   "execution_count": 33,
   "id": "c8ad826a-0283-4200-aa75-79ca6456ef5f",
   "metadata": {},
   "outputs": [
    {
     "name": "stdin",
     "output_type": "stream",
     "text": [
      "Entr the number 6\n"
     ]
    },
    {
     "name": "stdout",
     "output_type": "stream",
     "text": [
      "The factorial of number is 720\n"
     ]
    }
   ],
   "source": [
    "#Q15. Write a Python program to calculate the factorial of a number provided by the user using a while loop.\n",
    "\n",
    "#ANS 15\n",
    "fc1 = int(input(\"Enter the number\"))\n",
    "i = fc1 -1\n",
    "\n",
    "while i > 0:\n",
    "    fc1= fc1*i\n",
    "    i = i-1\n",
    "print(f\"The factorial of number is {fc1}\")"
   ]
  },
  {
   "cell_type": "code",
   "execution_count": null,
   "id": "d4931dee-e467-4aeb-a814-8ecb8f836921",
   "metadata": {},
   "outputs": [],
   "source": []
  }
 ],
 "metadata": {
  "kernelspec": {
   "display_name": "Python [conda env:base] *",
   "language": "python",
   "name": "conda-base-py"
  },
  "language_info": {
   "codemirror_mode": {
    "name": "ipython",
    "version": 3
   },
   "file_extension": ".py",
   "mimetype": "text/x-python",
   "name": "python",
   "nbconvert_exporter": "python",
   "pygments_lexer": "ipython3",
   "version": "3.12.7"
  }
 },
 "nbformat": 4,
 "nbformat_minor": 5
}
